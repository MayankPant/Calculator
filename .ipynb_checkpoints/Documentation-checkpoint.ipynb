{
 "cells": [
  {
   "cell_type": "markdown",
   "id": "48330d8a",
   "metadata": {},
   "source": [
    "# About"
   ]
  },
  {
   "cell_type": "markdown",
   "id": "f4a2a2ef",
   "metadata": {},
   "source": [
    "The calculator implemented in the project is capable of solving complex infix expressions including `unary minus(-)`, '`binary minus(-)` and `unary plus(+)`, '`binary plus(+)`, `multiply(*)` , `divide(/)`, ` left and right parenthesis` ,  and `demial functionality`. Along with these, it has also the abilty to do a few functional operations like `logarithms of base 10` and `gcd/hcf` and `lcm`. \n",
    "The GUI interface is built using the `tkinter` module of python."
   ]
  },
  {
   "cell_type": "markdown",
   "id": "48d727c1",
   "metadata": {},
   "source": [
    "# Implementation"
   ]
  },
  {
   "cell_type": "markdown",
   "id": "f70666ea",
   "metadata": {},
   "source": [
    "The calculator uses the techniques provided in `Shunting Yard` algorithm which first converts the `infix` expression into `reverse polish notation` or `postfix notation` and then, after that evaluates the expression.\n",
    "However we have combined the two, to get an algorithm which evaluates an expression in one single pass and uses two stacks.\n",
    "Thus this algorithm has a Time complexity of `O(n)` and space complexity of `O(n)` as well.\n",
    "\n",
    "### Unary and Binary operator differenciation\n",
    "\n",
    "Since there is a sinle `-` button in a calulator, the algorithm needs to be upgraded to take a unary and binary minus into account while solving the expression.\n",
    "This algorithm differentiates between a unary and binary operator based on `precedence` and a `unary switch`\n",
    "The switch is activated before an operand and deactivated after an operand is pushed into the stack because a unary operator is always before the operand.\n",
    "After going through the string, when you find the unary operator, you change its symbol as a placeholder, to get its precedence and differentiate between unary and a binary minus. A priority is decided based on the newly assigned symbols and based on it  two(for binary) and one(for unary) elements are popped off.\n",
    "\n",
    "\n",
    "### Decimal Funtionality\n",
    "\n",
    "\n",
    "The decimal functionality is given using the `modf()` method which return the fractional part of a real number. If the fractional part is zero, then the number is an integer or else it is treated as a float.\n",
    "\n",
    "The `count` variable used, also treats `.` operator as an *__alphanumeric__* character which is simply concatenated with a number itself. This approach of dealing with decimals ensures the relative order of decimal position especially when a real number has more decimal digits.\n",
    "\n",
    "After converting into float,the numbers can be operated on as usual using `perform()` function.\n",
    "\n",
    "\n",
    "### The count variable\n",
    "\n",
    "This variable actually allows to take in real number values with multiple digits like `7.989`. This is not possible with the regular `shunting yard`. This variable is a string, which simply concatenates alphanumeric characters including decimal. Concatentaion for decimal and numerical characters is done to preserve the relative order for operation."
   ]
  },
  {
   "cell_type": "markdown",
   "id": "ad539323",
   "metadata": {},
   "source": [
    "## Utility Functions  for equal Button\n",
    "\n",
    "*__is_alphanumeric()__* - this checks whether a particular character from the infix expression is alphanumeric or not using ASCII\n",
    "\n",
    "*__is_operator()__* - checks if the given character is a operator or not\n",
    "\n",
    "*__is_unary()__* - checks if the given operator is unary or binary\n",
    "\n",
    "*__get_precedence()__* - returns the precedence of an operator. The bigger the value, the higher is the precedence\n",
    "\n",
    "*__perform()__* - uses a dictionary to map each of the operator with its respective lambda expression, which is then used to operate on the given **two** parameters. This is precisely used for binary operators only.\n",
    "\n",
    "*__perform_unary()__* - this takes in one arguments rather than two to perform a unary operation.\n",
    "\n",
    "\n",
    "*__balanced()__* - This checks whether the given infix expression has balanced parenthesis or not using an O(n) time complexity algorithm.\n"
   ]
  },
  {
   "cell_type": "markdown",
   "id": "8c045ff3",
   "metadata": {},
   "source": [
    "# The Equal Button"
   ]
  },
  {
   "cell_type": "markdown",
   "id": "94dcdb02",
   "metadata": {},
   "source": [
    "The equal button is used to calculate the given expression.This includes a regular infix expression and the functional operations as well. Using the `modified shunting yard`, it calculates the expression using two stacks and O(n) complexity.\n",
    "The button uses the above utilty function to arrive at the result."
   ]
  },
  {
   "cell_type": "markdown",
   "id": "d1b8f835",
   "metadata": {},
   "source": [
    "# Functional keys\n",
    "\n",
    "The `log()` , `lcm()` and `hcf()` functions can be used if the input is in correct format.\n",
    "\n",
    "### Format of input\n",
    "\n",
    "*__hcf and lcm__* - Two space seperated numbers are entered after pressing the respctive button. This format is used as the function to calculate the input uses space as a slicer and then removes the numbers from the digit.\n",
    "\n",
    "*__log__*- This uses one input after pressing the log button and gives the outputs as log base 10."
   ]
  },
  {
   "cell_type": "markdown",
   "id": "60f7fc34",
   "metadata": {},
   "source": [
    "## Things to keep in mind\n",
    "\n",
    "1.Please use the buttons given in the GUI interface as the primary way of input, because the app is tested currently for only those inputs.\n",
    "\n",
    "2.The input of the infix expression should be a `balanced` and `without space` expression.\n",
    "\n",
    "3.*__The input format for lcm and hcf are two space seperated numbers after pressing the respctive button in the interface, whereas for log it is just one number after pressing the \"log\" button.__*\n",
    "\n",
    "4.Space is the *__SPC__* button."
   ]
  },
  {
   "cell_type": "markdown",
   "id": "2ad0703d",
   "metadata": {},
   "source": [
    "# Final Words\n",
    "\n",
    "Althogh the initially requirements for this project werent this complex, while building the project, I got carried away.\n",
    "The project took time and  more testing is still required, `so please any feedback given is appreciated`.\n",
    "\n",
    "Thank you!.\n",
    "\n",
    "Created by - *__Mayank Pant__*"
   ]
  },
  {
   "cell_type": "code",
   "execution_count": null,
   "id": "37de5a63",
   "metadata": {},
   "outputs": [],
   "source": []
  }
 ],
 "metadata": {
  "kernelspec": {
   "display_name": "Python 3 (ipykernel)",
   "language": "python",
   "name": "python3"
  },
  "language_info": {
   "codemirror_mode": {
    "name": "ipython",
    "version": 3
   },
   "file_extension": ".py",
   "mimetype": "text/x-python",
   "name": "python",
   "nbconvert_exporter": "python",
   "pygments_lexer": "ipython3",
   "version": "3.9.7"
  }
 },
 "nbformat": 4,
 "nbformat_minor": 5
}
